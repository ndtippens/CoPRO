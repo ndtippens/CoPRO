{
 "cells": [
  {
   "cell_type": "code",
   "execution_count": 1,
   "metadata": {
    "collapsed": false,
    "jupyter": {
     "outputs_hidden": false
    }
   },
   "outputs": [],
   "source": [
    "#!/usr/bin/Rscript\n",
    "\n",
    "suppressPackageStartupMessages(library(Rsamtools))\n",
    "suppressPackageStartupMessages(library(GenomicAlignments))\n",
    "suppressPackageStartupMessages(library(GenomicFiles))\n",
    "suppressPackageStartupMessages(library(data.table))\n",
    "suppressPackageStartupMessages(library(optparse))\n",
    "suppressPackageStartupMessages(library(rtracklayer))\n",
    "suppressPackageStartupMessages(library(GenomicRanges))\n",
    "suppressPackageStartupMessages(library(plyr))\n",
    "suppressPackageStartupMessages(library(lattice))\n",
    "suppressPackageStartupMessages(library(RColorBrewer))\n",
    "suppressPackageStartupMessages(library(foreach))\n",
    "suppressPackageStartupMessages(library(doParallel))\n",
    "suppressPackageStartupMessages(library(gridExtra))\n",
    "suppressPackageStartupMessages(library(ggplot2))\n",
    "suppressPackageStartupMessages(library(scales))\n",
    "suppressPackageStartupMessages(library(fpc))\n",
    "suppressPackageStartupMessages(library(bigWig))\n",
    "registerDoParallel(cores=7);\n",
    "source(\"./CoPRO_Functions.r\");\n",
    "genomef = \"~/bin/genomes/hg19/hg19.2bit\";\n",
    "options(repr.plot.width=3, repr.plot.height=3, jupyter.plot_mimetypes = \"image/svg+xml\");"
   ]
  },
  {
   "cell_type": "code",
   "execution_count": 2,
   "metadata": {
    "collapsed": false,
    "jupyter": {
     "outputs_hidden": false
    }
   },
   "outputs": [],
   "source": [
    "load('../data/CoPRO_hg19_dm6_paperfreeze/CoPRO_AllMerge_Pooled.Rdata');\n",
    "Pooled = Pooled[ order(Pooled$ID5) ];\n",
    "ReadTable = as.data.table(mcols(Pooled));\n",
    "setkey(ReadTable, ID5);\n",
    "# compute width & number of 3' ends\n",
    "ReadTable[, width := abs(ID5-ID3)+1];\n",
    "\n",
    "# count distinct 3' ends within first 60 bases\n",
    "erly = ReadTable[ width >= 20 & width <= 60, .(PsPos=sum(C>0|R>0), tcap=sum(C), tunc=sum(U), ttot=sum(C+U+R+E)), by=ID5 ];"
   ]
  },
  {
   "cell_type": "code",
   "execution_count": null,
   "metadata": {
    "collapsed": false,
    "jupyter": {
     "outputs_hidden": false
    }
   },
   "outputs": [],
   "source": [
    "ggplot( data=as.data.frame(erly[tcap>0,]), aes(x=PsPos, y=log2(tcap/min(tcap)))) + geom_hex(binwidth=c(1,0.5)) +\n",
    "\tscale_x_continuous(name = \"Number of 3' ends\", breaks=seq(0,40,5), limits=c(0,40)) +\n",
    " \tscale_y_continuous(name = \"Capped Reads (log2)\", breaks=0:10, limits=c(0,10)) +\n",
    "\tscale_fill_gradientn(name = \"TSN Count\", colors=heatcols, trans='log10' ) +\n",
    "\ttheme(panel.grid.major = element_blank(), panel.grid.minor = element_blank(),\n",
    "\t\tpanel.background = element_blank(), legend.position='none',\n",
    "\t\taxis.line = element_line(colour = \"black\")\n",
    ");"
   ]
  },
  {
   "cell_type": "code",
   "execution_count": null,
   "metadata": {
    "collapsed": false,
    "jupyter": {
     "outputs_hidden": false
    }
   },
   "outputs": [],
   "source": [
    "N3p = hist(erly[PsPos<=30,PsPos], breaks=30, plot=F);\n",
    "plot(x=N3p$mids, y=N3p$counts, log=\"y\", xlim=c(0,30), ylim=c(1, 10^8), col=\"dodgerblue\",\n",
    "\tmain=\"TSB Calling Threshold\", ylab=\"Number of TSBs\", xlab=\"Number of 3' ends\", type=\"l\", lwd=2);\n",
    "abline(v=5, col='gray');"
   ]
  },
  {
   "cell_type": "code",
   "execution_count": null,
   "metadata": {
    "collapsed": false,
    "jupyter": {
     "outputs_hidden": false
    }
   },
   "outputs": [],
   "source": [
    "# start sites = at least 5 distinct 3' ends\n",
    "erly = erly[ PsPos >= 5, ];\n",
    "erly[, ElongR := 0 ];\n",
    "ReadTable = ReadTable[ ID5 %in% erly$ID5, ];"
   ]
  },
  {
   "cell_type": "code",
   "execution_count": null,
   "metadata": {
    "collapsed": false,
    "jupyter": {
     "outputs_hidden": false
    }
   },
   "outputs": [],
   "source": [
    "late = ReadTable[ width > 100 & width <= 400, .(tcap=sum(C), trpp=sum(R), tunc=sum(U), ttot=sum(C+U+R+E)), by=ID5 ];\n",
    "\n",
    "CapR   = round( erly$tcap / (erly$tcap + erly$tunc), 2 );\n",
    "FinCap = round( late$tcap / (late$tcap + late$tunc), 2 );\n",
    "#erly[ ID5 %in% late$ID5, ElongR := round( late$ttot / (ttot + late$ttot), 2 ) ];\n",
    "hist(CapR[CapR<1], xlim=c(0, 1), breaks=30);\n",
    "hist(FinCap[FinCap<1], xlim=c(0, 1), breaks=30);\n",
    "#hist(erly[ElongR>0, ElongR], xlim=c(0, 1), breaks=30);"
   ]
  },
  {
   "cell_type": "code",
   "execution_count": null,
   "metadata": {
    "collapsed": false,
    "jupyter": {
     "outputs_hidden": false
    }
   },
   "outputs": [],
   "source": [
    "junk   =   late[ !is.na(FinCap) & FinCap <= 0.33, ID5 ];\n",
    "starts =   erly[ !erly$ID5 %in% junk, ID5 ];\n",
    "CapR   =   CapR[ erly$ID5 %in% starts ];\n",
    "FinCap = FinCap[ erly$ID5 %in% starts ];\n",
    "erly   =   erly[ erly$ID5 %in% starts ];\n",
    "TSB    = Pooled[ Pooled$ID5 %in% starts ];"
   ]
  },
  {
   "cell_type": "code",
   "execution_count": null,
   "metadata": {
    "collapsed": false,
    "jupyter": {
     "outputs_hidden": false
    }
   },
   "outputs": [],
   "source": [
    "rm(ReadTable, late);\n",
    "invisible(gc());"
   ]
  },
  {
   "cell_type": "code",
   "execution_count": null,
   "metadata": {
    "collapsed": false,
    "jupyter": {
     "outputs_hidden": false
    }
   },
   "outputs": [],
   "source": [
    "base5 = Pooled;\n",
    "base5 = resize(base5, width=1, fix='start');\n",
    "rm(Pooled);\n",
    "invisible(gc());"
   ]
  },
  {
   "cell_type": "code",
   "execution_count": null,
   "metadata": {
    "collapsed": false,
    "jupyter": {
     "outputs_hidden": false
    }
   },
   "outputs": [],
   "source": [
    "# sum over 3' ends to simplify TSBs\n",
    "sTSB = TSB[ !duplicated(TSB$ID5) ];\n",
    "# collapse onto 5' base\n",
    "sTSB = resize( sTSB, width=1 );\n",
    "sTSB$ID3 = NULL;\n",
    "msgout(pn(length(sTSB)), \"TSB calls (at least 5 unique 3' ends, reads >100 nt at least 33% capped)\");"
   ]
  },
  {
   "cell_type": "code",
   "execution_count": null,
   "metadata": {
    "collapsed": false,
    "jupyter": {
     "outputs_hidden": false
    }
   },
   "outputs": [],
   "source": [
    "sTSB$C = aggregate( C ~ ID5, data=TSB, FUN=sum )[,2];\n",
    "sTSB$U = aggregate( U ~ ID5, data=TSB, FUN=sum )[,2];\n",
    "sTSB$R = aggregate( R ~ ID5, data=TSB, FUN=sum )[,2];\n",
    "sTSB$E = aggregate( E ~ ID5, data=TSB, FUN=sum )[,2];"
   ]
  },
  {
   "cell_type": "code",
   "execution_count": null,
   "metadata": {
    "collapsed": false,
    "jupyter": {
     "outputs_hidden": false
    }
   },
   "outputs": [],
   "source": [
    "sTSB$CapR = CapR;\n",
    "sTSB$FinCap = FinCap;\n",
    "#sTSB$ElongR = round(erly$ElongR, 2);\n",
    "hist(100*sTSB$CapR[sTSB$C>3&sTSB$CapR<1], breaks=50, xlim=c(0, 100), xlab=\"% Capped\", ylab=\"Number of TSBs\", col=tblue, main=\"Cap Ratios (filt.)\")\n",
    "\n",
    "Ratio = ifelse(sTSB$C>sTSB$R, sTSB$R/sTSB$C, sTSB$C/sTSB$R);\n",
    "hist(Ratio, breaks=80, xlim=c(0, 1), ylim=c(0, 5E4), main=\"Cap / RppH\", col=tblue);"
   ]
  },
  {
   "cell_type": "code",
   "execution_count": null,
   "metadata": {
    "collapsed": false,
    "jupyter": {
     "outputs_hidden": false
    }
   },
   "outputs": [],
   "source": [
    "# remove sites with more than 5-fold difference in Capped and RppH samples\n",
    "junk = Ratio <= 0.2;\n",
    "msgout(pn(sum(junk,na.rm=T)), \"TSBs have >5x disagreement between Cap and RppH\");\n",
    "\n",
    "sTSB = sTSB[!junk & seqnames(sTSB) != 'chrM'];\n",
    "TSB  = TSB[TSB$ID5 %in% sTSB$ID5];"
   ]
  },
  {
   "cell_type": "code",
   "execution_count": null,
   "metadata": {
    "collapsed": false,
    "jupyter": {
     "outputs_hidden": false
    }
   },
   "outputs": [],
   "source": [
    "# Define TSS as clusters of TSB within 60 bases of each other\n",
    "TSS = compute_TSS( sTSB, 60 );\n",
    "msgout(pn(length(TSS)), \"TSS calls\");\n",
    "\n",
    "# assign each TSB to appropriate TSS\n",
    "hits = findOverlaps( sTSB, TSS, type=\"any\" );\n",
    "sTSB$TSS = TSS$ID5[ hits@to ];\n",
    " TSB$TSS = sTSB$TSS[ match(TSB$ID5, sTSB$ID5) ];\n",
    "# count TSBs within each cluster\n",
    "TSS$nTSB = plyr::count(hits@to)$freq; # get frequency of TSB hits\n",
    "\n",
    "# count capped and uncapped reads in each TSS\n",
    "hits = findOverlaps( base5, TSS );\n",
    "TSS$Cap   = aggregate( base5$C[hits@from] ~ hits@to, FUN=sum )[,2];\n",
    "TSS$Uncap = aggregate( base5$U[hits@from] ~ hits@to, FUN=sum )[,2];\n",
    "TSS$RppH  = aggregate( base5$R[hits@from] ~ hits@to, FUN=sum )[,2];"
   ]
  },
  {
   "cell_type": "code",
   "execution_count": null,
   "metadata": {
    "collapsed": false,
    "jupyter": {
     "outputs_hidden": false
    }
   },
   "outputs": [],
   "source": [
    "# compute termination ratios from max TSB in each TSS\n",
    "maxTSS = as.data.table( mcols(sTSB) );\n",
    "# find max capped TSB in each TSS\n",
    "maxTSS[, isMax := (which.max(C) == seq_len(.N)), by=TSS ];\n",
    "TW = sTSB[ maxTSS[,isMax] ];\n",
    "# shift 10 bp downstream\n",
    "TW = GenomicRanges::shift(TW, 10);\n",
    "# expand 90 bp downstream\n",
    "TW = resize(TW, 90);\n",
    "# get all reads starting in these regions\n",
    "hits = findOverlaps( base5, TW );\n",
    "HH = unique(hits@to);\n",
    "TW$Cap = 0;\n",
    "TW$Uncap = 0;\n",
    "TW$RppH = 0;\n",
    "TW$Cap[HH]   = aggregate( base5$C[hits@from] ~ hits@to, FUN=sum )[,2];\n",
    "TW$Uncap[HH] = aggregate( base5$U[hits@from] ~ hits@to, FUN=sum )[,2];\n",
    "TW$RppH[HH]  = aggregate( base5$R[hits@from] ~ hits@to, FUN=sum )[,2];\n",
    "# add a psuedocount to prevent dividing by 0\n",
    "TSS$TermR = round( TW$Uncap / (TW$Cap + TW$Uncap + 0.01), 2);"
   ]
  },
  {
   "cell_type": "code",
   "execution_count": null,
   "metadata": {
    "collapsed": false,
    "jupyter": {
     "outputs_hidden": false
    }
   },
   "outputs": [],
   "source": [
    "msgout(pn(sum(TSS$Cap <= 0.8 & width(TSS) < 5)), \"TSS with <5 Capped reads and <5 bp\");\n",
    "TSS = TSS[ TSS$Cap > 0.8 & width(TSS) >= 5 ];\n",
    "msgout(pn(sum(!sTSB$TSS %in% TSS$ID5)), \"sTSBs removed\");\n",
    "sTSB = sTSB[ sTSB$TSS %in% TSS$ID5 ];\n",
    " TSB =  TSB[  TSB$TSS %in% TSS$ID5 ];\n"
   ]
  },
  {
   "cell_type": "code",
   "execution_count": null,
   "metadata": {
    "collapsed": false,
    "jupyter": {
     "outputs_hidden": false
    }
   },
   "outputs": [],
   "source": [
    "wsizes = c( seq(2, 20, 2), seq(25, 1000, 25), seq(1200, 5000, 200), seq(6E3, 110E3, 4E3) );\n",
    "TIDct = wsizes;\n",
    "for( i in 1:length(wsizes) ) {\n",
    "\tTIDct[i] = length(compute_TREs( sTSB, wsizes[i] ))/1000;\n",
    "}"
   ]
  },
  {
   "cell_type": "code",
   "execution_count": null,
   "metadata": {
    "collapsed": false,
    "jupyter": {
     "outputs_hidden": false
    }
   },
   "outputs": [],
   "source": [
    "Clustering = data.frame( Distance=wsizes, Count=TIDct );\n",
    "allmod = lm( log(Count) ~ log(Distance), data=Clustering, subset=wsizes<=5E3 );\n",
    "summary( allmod );\n",
    "predall = exp( predict(allmod, list(Distance=wsizes)) );"
   ]
  },
  {
   "cell_type": "code",
   "execution_count": null,
   "metadata": {
    "collapsed": false,
    "jupyter": {
     "outputs_hidden": false
    }
   },
   "outputs": [],
   "source": [
    "CFits = Clustering[3:length(wsizes) -1,];\n",
    "colnames(CFits) = c('A', 'B');\n",
    "for( i in 3:length(wsizes) -1 ) {\n",
    "    if(wsizes[i] >= 4000) next;\n",
    "    sgmod = lm( log(Count) ~ log(Distance), data=Clustering, subset=Distance <= wsizes[i] );\n",
    "    predsg = exp( predict(sgmod, list(Distance=wsizes)) );\n",
    "    Residual = Clustering;\n",
    "    Residual$Count = Residual$Count - predsg;\n",
    "    Residual$Count[Residual$Count < 1] = 1;\n",
    "    bgmod = lm( log(Count) ~ log(Distance), data=Clustering, subset=Distance >= wsizes[i] & Distance<=4E3 );\n",
    "    CFits[i-1,1] = round(summary(sgmod)$adj.r.squared,3)\n",
    "    CFits[i-1,2] = round(summary(bgmod)$adj.r.squared,3);\n",
    "}\n",
    "sgmod = lm( log(Count) ~ log(Distance), data=Clustering, subset=Distance <= 500 );\n",
    "bgmod = lm( log(Count) ~ log(Distance), data=Clustering, subset=Distance >  1000 & Distance <= 5E3 );\n",
    "predbg = exp( predict(bgmod, list(Distance=wsizes)) );\n",
    "predsg = exp( predict(sgmod, list(Distance=wsizes)) );\n",
    "#print(cbind(wsizes[3:length(wsizes)-1], CFits$A, CFits$B));"
   ]
  },
  {
   "cell_type": "code",
   "execution_count": null,
   "metadata": {
    "collapsed": false,
    "jupyter": {
     "outputs_hidden": false
    }
   },
   "outputs": [],
   "source": [
    "pdf(\"../plots/PhaseTransition.pdf\", width=5, height=5);\n",
    "par(mar=c(4,4,1,1)+0.5);\n",
    "\n",
    "matplot(\n",
    "\tx=wsizes/1000, y=cbind(TIDct, predbg, predsg, predall), type='l', lwd=2, lty=c(1,2,2,2),\n",
    "\txlab='Clustering Distance (kbp)', ylab='Thousands of Clusters', log='xy',\n",
    "\tcol=c(\"dodgerblue\", 'black', 'black', 'gray'), xlim=c(0.1, 12), ylim=c(10, 70)\n",
    ");\n",
    "legend( 'topright', legend=c('CoPRO', 'One exp.', 'Two exps.'), col=c('dodgerblue', 'gray', 'black'), lty=c(1,2,2));\n",
    "\n",
    "matplot(\n",
    "\tx=wsizes[3:length(wsizes)-1]/1000, y=CFits, type='l', lwd=2, lty=1,\n",
    "\txlab='Clustering Distance (kbp)', ylab=expression('R'^2), main='Best Fit',\n",
    "\txlim=c(0, 5), ylim=c(0.6, 1), col=c(\"dodgerblue\", 'firebrick')\n",
    ");\n",
    "abline(v=c(462), col='gray', lty=3);\n",
    "legend( 'bottomright', legend=c('Fast', 'Slow'), col=c('dodgerblue', 'firebrick'), lty=1);\n",
    "\n",
    "matplot(\n",
    "\tx=wsizes/1000, y=cbind(TIDct, predbg, predsg), type='l', lwd=2, lty=c(1,2,2,2),\n",
    "\txlab='Clustering Distance (kbp)', ylab='Thousands of TIDs', log='xy',\n",
    "\txlim=c(0.1, 12), ylim=c(15, 60), col=c(\"dodgerblue\", 'black', 'black', 'gray')\n",
    ");\n",
    "legend( 'topright', legend=c('CoPRO', 'Best Fits'), col=c('dodgerblue', 'black'), lty=c(1,2,2));\n",
    "\n",
    "dev.off();"
   ]
  },
  {
   "cell_type": "code",
   "execution_count": null,
   "metadata": {
    "collapsed": false,
    "jupyter": {
     "outputs_hidden": false
    },
    "scrolled": true
   },
   "outputs": [],
   "source": [
    "# Cluster TSSs into TREs\n",
    "TREs = compute_TREs( sTSB, 475 );\n",
    "msgout(pn(length(TREs)), \"TREs\");\n",
    "\n",
    "# count number of TSS on each strand\n",
    "pl = strand(TSS) == \"+\";\n",
    "TREs$pTSS = countOverlaps( TREs, TSS[pl] );\n",
    "TREs$nTSS = countOverlaps( TREs, TSS[!pl] );\n",
    "# Add TRE ID to each TSS\n",
    "hits = findOverlaps( TSS, TREs );\n",
    "TSS$TREID = NA;\n",
    "TSS$TREID[hits@from] = TREs[hits@to]$ID5;\n",
    "TREcap = aggregate(Cap ~ TREID, data=TSS, FUN=sum);\n",
    "TREs$Cap = TREcap[match(TREs$ID5, TREcap$TREID),2];"
   ]
  },
  {
   "cell_type": "code",
   "execution_count": null,
   "metadata": {
    "collapsed": false,
    "jupyter": {
     "outputs_hidden": false
    }
   },
   "outputs": [],
   "source": [
    "ggplot( data=as.data.frame(mcols(TREs)), aes( x=width(TREs), y=Cap )) + geom_hex(binwidth=c(0.25,0.25)) +\n",
    "\tscale_x_continuous(name = \"TID Width (bp)\", breaks=2^seq(4,11,2), limits=c(16,2^11), trans='log2') +\n",
    " \tscale_y_continuous(name = \"Capped Reads\", breaks=2^seq(0,10,2), limits=c(1,2^10), trans='log2') +\n",
    "\tscale_fill_gradientn(name = \"TID Count\", colors=heatcols, trans='log10' ) +\n",
    "\ttheme(panel.grid.major = element_blank(), panel.grid.minor = element_blank(),\n",
    "\t\tpanel.background = element_blank(), legend.position='none',\n",
    "\t\taxis.line = element_line(colour = \"black\")\n",
    ");"
   ]
  },
  {
   "cell_type": "code",
   "execution_count": null,
   "metadata": {
    "collapsed": false,
    "jupyter": {
     "outputs_hidden": false
    }
   },
   "outputs": [],
   "source": [
    "maxTSS = as.data.table( mcols(TSS) );\n",
    "# determine which site has max capped reads at each TRE\n",
    "maxTSS[, isMax := (which.max(Cap) == seq_len(.N)), by=TREID ];\n",
    "maxID5 = maxTSS[isMax == T, ID5];\n",
    "mTSS = TSS[ TSS$ID5 %in% maxID5 ];\n",
    "TREs$mTSS = mTSS$ID5[match(TREs$ID5, mTSS$TREID)];"
   ]
  },
  {
   "cell_type": "code",
   "execution_count": null,
   "metadata": {
    "collapsed": false,
    "jupyter": {
     "outputs_hidden": false
    }
   },
   "outputs": [],
   "source": [
    "TREavgTerm = aggregate( TSS$TermR ~ TSS$TREID, FUN=mean );\n",
    "hist(100*TREavgTerm[,2], breaks=50, xlim=c(0, 100), xlab=\"% Terminating\", ylab=\"Number of TREs\", col=tblue)\n",
    "highTerm = TREavgTerm[ TREavgTerm[,2] >= 0.90, 1 ];\n",
    "\n",
    "# remove single-stranded TREs with high avg termination\n",
    "keep = (!TREs$ID5 %in% highTerm) | (TREs$pTSS & TREs$nTSS);\n",
    "TREs = TREs[ keep & TREs$Cap > 2 ];\n",
    "TSS = TSS[ TSS$TREID %in% TREs$ID5 ];\n",
    "sTSB = sTSB[ sTSB$TSS %in% TSS$ID5 ];\n",
    "TSB = TSB[ TSB$ID5 %in% sTSB$ID5 ];\n",
    "\n",
    "msgout(pn(sum(!keep)), \"TREs removed by secondary filters\");\n",
    "msgout(pn(length(TREs)), \"TREs\");\n",
    "msgout(pn(length(TSS )), \"TSSs\");\n",
    "msgout(pn(length(sTSB)), \"TSBs\");\n",
    "hist(100*TSS$TermR, breaks=50, xlim=c(0, 100), xlab=\"% Terminating\", ylab=\"Number of TSS\", col=tblue)"
   ]
  },
  {
   "cell_type": "code",
   "execution_count": null,
   "metadata": {
    "collapsed": false,
    "jupyter": {
     "outputs_hidden": false
    }
   },
   "outputs": [],
   "source": [
    "# read in CAGE data\n",
    "CAGE = import.bw(\"../data/K562_paCAGE_pl.bw\"); # reprocessed for 5'base resolution\n",
    "CAGEmn = import.bw(\"../data/K562_paCAGE_mn.bw\"); # reprocessed for 5'base resolution\n",
    "strand(CAGE) = \"+\";\n",
    "strand(CAGEmn) = \"-\";\n",
    "CAGE = append(CAGE, CAGEmn);\n",
    "rm(CAGEmn);\n",
    "seqlengths(CAGE) = seqlengths(sTSB)[names(seqlengths(CAGE))]\n",
    "hits = findOverlaps( sTSB, CAGE );\n",
    "sTSB$CAGE = as.integer(0);\n",
    "sTSB$CAGE[hits@from] = abs(CAGE$score[hits@to]);"
   ]
  },
  {
   "cell_type": "code",
   "execution_count": null,
   "metadata": {
    "collapsed": false,
    "jupyter": {
     "outputs_hidden": false
    }
   },
   "outputs": [],
   "source": [
    "# compute stability for individual TSBs\n",
    "sTSB$Stability = factor('Unstable', levels=c('Unstable', 'Stable'))\n",
    "# Stable if at least 8 CAGE reads\n",
    "sTSB$Stability[ sTSB$CAGE >= 8 ] = \"Stable\";\n",
    "msgout('TSBs')\n",
    "summary(sTSB$Stability)"
   ]
  },
  {
   "cell_type": "code",
   "execution_count": null,
   "metadata": {
    "collapsed": false,
    "jupyter": {
     "outputs_hidden": false
    }
   },
   "outputs": [],
   "source": [
    "TSS$Stability = factor(ifelse( countOverlaps(TSS, sTSB[sTSB$Stability=='Stable'])>0, 'Stable', 'Unstable' ));\n",
    "msgout('TSSs')\n",
    "summary(TSS$Stability)"
   ]
  },
  {
   "cell_type": "code",
   "execution_count": null,
   "metadata": {
    "collapsed": false,
    "jupyter": {
     "outputs_hidden": false
    }
   },
   "outputs": [],
   "source": [
    "#sTSB$CAGE = NULL;\n",
    "# compute number of stable and unstable TSS in each TRE\n",
    "TREs$nS = countOverlaps(TREs, TSS[TSS$Stability == 'Stable']);\n",
    "TREs$nU = countOverlaps(TREs, TSS[TSS$Stability == 'Unstable']);"
   ]
  },
  {
   "cell_type": "code",
   "execution_count": null,
   "metadata": {
    "collapsed": false,
    "jupyter": {
     "outputs_hidden": false
    }
   },
   "outputs": [],
   "source": [
    "# Read transcription unit info\n",
    "TX = as(read.table(\"../data/TranscriptionUnits.bed\", header=T, sep=\"\\t\"), \"GRanges\");\n",
    "nTUs = length(TX);\n",
    "# collapse to TSS\n",
    "TXtss = resize(TX, 1);\n",
    "# expand 500 bp in both directions\n",
    "TXtss = resize(TXtss, 1000, fix=\"center\");"
   ]
  },
  {
   "cell_type": "code",
   "execution_count": null,
   "metadata": {
    "collapsed": false,
    "jupyter": {
     "outputs_hidden": false
    }
   },
   "outputs": [],
   "source": [
    "# Classify TREs relative to TUs (independent of expression)\n",
    "TREs$Location = factor(\"Intergenic\", levels=c(\"Promoter\", \"Intergenic\", \"Intragenic\"));\n",
    "TMap = findOverlaps( TREs, TX );\n",
    "intergenic = TREs[ TMap@from ];\n",
    "TREs$Location[ TMap@from ] = \"Intragenic\";\n",
    "TMap = findOverlaps( TREs, TXtss );\n",
    "TREs$Location[ TMap@from ] = \"Promoter\";\n",
    "promoters = TREs[ TMap@from ];\n",
    "intergenic = intergenic[ !intergenic %in% promoters ];\n",
    "other = TREs[ -TMap@from ];\n",
    "other = other[ !other %in% intergenic ];\n",
    "# Assign TSS/TSB as well\n",
    "TSS$Location = TREs$Location[ match(TSS$TREID, TREs$ID5) ];\n",
    "sTSB$Location = TSS$Location[ match(sTSB$TSS, TSS$ID5) ];"
   ]
  },
  {
   "cell_type": "code",
   "execution_count": null,
   "metadata": {},
   "outputs": [],
   "source": [
    "# Annotate transcribed TUs\n",
    "TMap = findOverlaps( TSS, TXtss );\n",
    "TX = TX[ unique(TMap@to) ];\n",
    "TXtss = TXtss[ unique(TMap@to) ];\n",
    "TX$nTSS = plyr::count(TMap@to)$freq;\n",
    "TMap = findOverlaps( TSS, TXtss );\n",
    "# assign all TSS to nearby TU\n",
    "TSS$TUID = NA;\n",
    "TSS$TUID[ TMap@from ] = TXtss$ID[TMap@to];\n",
    "TSS$TUname = NA;\n",
    "TSS$TUname[ TMap@from ] = as.character(TX[TMap@to]$name);"
   ]
  },
  {
   "cell_type": "code",
   "execution_count": null,
   "metadata": {
    "collapsed": false,
    "jupyter": {
     "outputs_hidden": false
    }
   },
   "outputs": [],
   "source": [
    "# many TUs have more than 1 matched TSS, so choose max TSS\n",
    "tmax = aggregate( TSS[TMap@from]$Cap ~ TMap@to, FUN=max );\n",
    "colnames(tmax) = c('to', 'Cap');\n",
    "x = match( TMap@to, tmax$to );\n",
    "# select max bases\n",
    "TMap = TMap[ TSS$Cap[TMap@from] == tmax$Cap[x] ];\n",
    "# remove any bases tied for max\n",
    "TMap = TMap[ !duplicated(TMap@to) ];\n",
    "msgout(pn(length(TMap@to)), \"active transcription units\")\n",
    "msgout(round(100*length(TMap@to) / nTUs), \"% of all annotated TUs\");\n",
    "TX$maxTSS = TMap@from;\n",
    "TX$TREID = TSS$TREID[ TX$maxTSS ];\n",
    "TX$TermR = round( TSS$TermR[ TX$maxTSS ], 2);"
   ]
  },
  {
   "cell_type": "code",
   "execution_count": null,
   "metadata": {
    "collapsed": false,
    "jupyter": {
     "outputs_hidden": false
    }
   },
   "outputs": [],
   "source": [
    "# check basic stats for our TSS and TRE calls\n",
    "TSSh = hist(TSS$nTSB, breaks=max(TSS$nTSB), plot=F);\n",
    "plot(x=TSSh$mids, y=TSSh$counts, log=\"y\", xlim=c(0,60), col=\"steelblue4\", lwd=2,\n",
    "\tmain=\"Start Bases per TSS\", ylab=\"Number of TSS\", xlab=\"Number of TSBs\", type=\"l\");\n"
   ]
  },
  {
   "cell_type": "code",
   "execution_count": null,
   "metadata": {
    "collapsed": false,
    "jupyter": {
     "outputs_hidden": false
    }
   },
   "outputs": [],
   "source": [
    "TSSw = hist(width(TSS), breaks=max(width(TSS)), plot=F);\n",
    "plot(x=TSSw$mids, y=TSSw$counts, log=\"y\", xlim=c(0,150), col=\"steelblue4\",\n",
    "\tmain=\"TSS Sizes\", ylab=\"Number of TSS\", xlab=\"TSS Width\", type=\"l\", lwd=2);"
   ]
  },
  {
   "cell_type": "code",
   "execution_count": null,
   "metadata": {
    "collapsed": false,
    "jupyter": {
     "outputs_hidden": false
    }
   },
   "outputs": [],
   "source": [
    "TREw = hist(width(TREs), breaks=300, plot=F);\n",
    "plot(x=TREw$mids, y=TREw$counts, log=\"y\", xlim=c(0,400), col=\"steelblue4\",\n",
    "\tmain=\"TRE Sizes\", ylab=\"Number of TREs\", xlab=\"TRE Width\", type=\"l\", lwd=2);\n",
    "#abline(v=30, col='gray');"
   ]
  },
  {
   "cell_type": "code",
   "execution_count": null,
   "metadata": {
    "collapsed": false,
    "jupyter": {
     "outputs_hidden": false
    }
   },
   "outputs": [],
   "source": [
    "#msgout(pn(sum(width(TREs)<30)), \"TREs <30 bp removed\")\n",
    "# remove small/lonely TREs\n",
    "#TREs = TREs[width(TREs)>=30];"
   ]
  },
  {
   "cell_type": "code",
   "execution_count": null,
   "metadata": {
    "collapsed": false,
    "jupyter": {
     "outputs_hidden": false
    }
   },
   "outputs": [],
   "source": [
    "# num TSS on each strand\n",
    "ggplot( data=as.data.frame(TREs), aes(x=1+pTSS, y=1+nTSS)) + stat_bin2d(binwidth=1) +\n",
    "\tscale_x_discrete(name = \"Number of Forward TSS\", limits=0:7, labels=-1:6) +\n",
    " \tscale_y_discrete(name = \"Number of Reverse TSS\", limits=0:7, labels=-1:6) +\n",
    "\tscale_fill_gradientn(name = \"TSS Count\", colors=heatcols ) +\n",
    "\ttheme(panel.grid.major = element_blank(), panel.grid.minor = element_blank(),\n",
    "\t\tpanel.background = element_blank(), legend.position=c(0.8, 0.25),\n",
    "\t\taxis.line = element_line(colour = \"black\")\n",
    ");"
   ]
  },
  {
   "cell_type": "code",
   "execution_count": null,
   "metadata": {
    "collapsed": false,
    "jupyter": {
     "outputs_hidden": false
    }
   },
   "outputs": [],
   "source": [
    "# num stable and unstable TSS\n",
    "ggplot( data=as.data.frame(TREs), aes(x=1+nS, y=1+nU)) + stat_bin2d(binwidth=1) +\n",
    "\tscale_x_discrete(name = \"Number of Stable TSS\", limits=0:11, labels=-1:8) +\n",
    " \tscale_y_discrete(name = \"Number of Unstable TSS\", limits=0:11, labels=-1:8) +\n",
    "\tscale_fill_gradientn(name = \"TSS Count\", colors=heatcols, trans='log10', limits=c(1, 2E4) ) +\n",
    "\ttheme(panel.grid.major = element_blank(), panel.grid.minor = element_blank(),\n",
    "\t\tpanel.background = element_blank(), legend.position=c(0.8, 0.4),\n",
    "\t\taxis.line = element_line(colour = \"black\")\n",
    ");"
   ]
  },
  {
   "cell_type": "code",
   "execution_count": null,
   "metadata": {
    "collapsed": false,
    "jupyter": {
     "outputs_hidden": false
    }
   },
   "outputs": [],
   "source": [
    "# remove chrY & load bigWig data\n",
    "TSB  =  TSB[ seqnames( TSB) != 'chrY' ];\n",
    "TSS  =  TSS[ seqnames( TSS) != 'chrY' ];\n",
    "sTSB = sTSB[ seqnames(sTSB) != 'chrY' ];\n",
    "TREs = TREs[ seqnames(TREs) != 'chrY' ];\n",
    "#CTCFbw = load.bigWig(\"../data/K562_CTCF.bw\");\n",
    "#TBPbw = load.bigWig(\"../data/K562_TBP.bw\");\n",
    "#TSS$CTCF = region.bpQuery.bigWig(CTCFbw, as.character(seqnames(TSS)), start(TSS) - 100, end(TSS) + 100, op=\"max\");\n",
    "#TSS$TBP  = region.bpQuery.bigWig( TBPbw, as.character(seqnames(TSS)), start(TSS) - 100, end(TSS) + 100, op=\"max\");\n"
   ]
  },
  {
   "cell_type": "code",
   "execution_count": null,
   "metadata": {
    "collapsed": false,
    "jupyter": {
     "outputs_hidden": false
    }
   },
   "outputs": [],
   "source": [
    "# compare TSS properties at promoters vs elsewhere\n",
    "wTSS = TSS[width(TSS)>5];\n",
    "intergenic = wTSS[ !is.na(wTSS$Location) & wTSS$Location == \"Intergenic\" ];\n",
    "intragenic = wTSS[ !is.na(wTSS$Location) & wTSS$Location == \"Intragenic\" ];\n",
    "promoters  = wTSS[ !is.na(wTSS$Location) & wTSS$Location == \"Promoter\"   ];\n",
    "hist( promoters$TermR, breaks=seq(0,1,by=0.05), xlim=c(0,1), ylim=c(0,3500),\n",
    "\tcol=\"steelblue3\", xlab='Termination Ratio', main=\"Promoter TSS\"\n",
    ");\n",
    "hist( intergenic$TermR, breaks=seq(0,1,by=0.05), xlim=c(0,1), ylim=c(0,3500),\n",
    "\tcol=\"green4\", xlab='Termination Ratio', main=paste0(\"Intergenic TSS\")\n",
    ");\n",
    "hist( intragenic$TermR, breaks=seq(0,1,by=0.05), xlim=c(0,1), ylim=c(0,3500),\n",
    "\tcol=\"firebrick\", xlab='Termination Ratio', main=\"Intragenic TSS\"\n",
    ");"
   ]
  },
  {
   "cell_type": "code",
   "execution_count": null,
   "metadata": {
    "collapsed": false,
    "jupyter": {
     "outputs_hidden": false
    }
   },
   "outputs": [],
   "source": [
    "# save results\n",
    "tline = c('track name=\"TSB\" itemRgb=\"On\"', rep('', 8));\n",
    "strcol = ifelse(strand(sTSB) == \"+\", '200,0,0', '0,0,170');\n",
    "out = cbind(as.character(seqnames(sTSB)), start(sTSB), end(sTSB), substr(as.character(sTSB$Stability), 1, 1), sTSB$CapR, as.character(strand(sTSB)), start(sTSB), end(sTSB), strcol);\n",
    "out = rbind(tline, out);\n",
    "write.table(out, \"../data/K562_TSBs.bed\", row.names=F, col.names=F, quote=F)\n",
    "\n",
    "strcol = ifelse(strand(TSS) == \"+\", '200,0,0', '0,0,170');\n",
    "tline = c('track name=\"TSS\" itemRgb=\"On\"', rep('', 8));\n",
    "out = cbind(as.character(seqnames(TSS)), start(TSS), end(TSS)+1, substr(as.character(TSS$Stability), 1, 1), TSS$TermR, as.character(strand(TSS)), start(TSS), end(TSS), strcol);\n",
    "out = rbind(tline, out);\n",
    "write.table(out, \"../data/K562_TSS.bed\", row.names=F, col.names=F, quote=F)\n",
    "\n",
    "out = cbind(as.character(seqnames(TREs)), start(TREs), end(TREs)+1, as.character(TREs$Stability), TREs$TermR, as.character(strand(TREs)));\n",
    "write.table(out, \"../data/K562_TREs.bed\", row.names=F, col.names=F, quote=F);"
   ]
  },
  {
   "cell_type": "code",
   "execution_count": null,
   "metadata": {
    "collapsed": false,
    "jupyter": {
     "outputs_hidden": false
    }
   },
   "outputs": [],
   "source": [
    "maxTSS = as.data.table( mcols(sTSB) );\n",
    "# determine which site has max capped/rpph reads at each TSS\n",
    "maxTSS[, isMax := (which.max(C) == seq_len(.N)), by=TSS ];\n",
    "mTSB = sTSB[ maxTSS[,isMax] ];\n",
    "mTSB = mTSB[ order(mTSB$ID5) ];"
   ]
  },
  {
   "cell_type": "code",
   "execution_count": null,
   "metadata": {
    "collapsed": false,
    "jupyter": {
     "outputs_hidden": false
    }
   },
   "outputs": [],
   "source": [
    "hits = findOverlaps( mTSB, TSS );\n",
    "TSS$mTSB[hits@to] = mTSB[hits@from]$ID5;"
   ]
  },
  {
   "cell_type": "code",
   "execution_count": null,
   "metadata": {
    "collapsed": false,
    "jupyter": {
     "outputs_hidden": false
    }
   },
   "outputs": [],
   "source": [
    "# get flanking RNA sequences from genome\n",
    "flank5 = GenomicRanges::promoters(mTSB[mTSB$C>2], upstream=5, downstream=6);\n",
    "# NOTE: import.2bit ignores strand, so we must manually complement the sequence.\n",
    "seq5 = import.2bit(genomef, which=flank5);\n",
    "seq5[ strand(flank5) == '-' ] = reverseComplement(seq5[ strand(flank5) == '-' ]);\n",
    "save(seq5, file=\"../data/K562_mTSB_seq5context.Rdata\")"
   ]
  },
  {
   "cell_type": "code",
   "execution_count": null,
   "metadata": {
    "collapsed": false,
    "jupyter": {
     "outputs_hidden": false
    }
   },
   "outputs": [],
   "source": [
    "export(seq5, \"../out/K562_mTSB_seq5context.fasta.gz\")"
   ]
  },
  {
   "cell_type": "code",
   "execution_count": null,
   "metadata": {},
   "outputs": [],
   "source": [
    "# divergent pairings\n",
    "# find maxTSB on - strand within 300 bp of maxTSB on + strand\n",
    "plTSB  = GenomicRanges::promoters( mTSB[ strand(mTSB) == \"+\" ], upstream=300, downstream=0 );\n",
    "mnTSB  = mTSB[ strand(mTSB) == \"-\" ];\n",
    "hits   = findOverlaps( plTSB, mnTSB, ignore.strand=T );\n",
    "# max ID5 on - strand = closest to + TSS\n",
    "pairs  = aggregate( mnTSB$ID5[hits@to] ~ plTSB[hits@from]$ID5, FUN=max );"
   ]
  },
  {
   "cell_type": "code",
   "execution_count": null,
   "metadata": {
    "collapsed": false,
    "jupyter": {
     "outputs_hidden": false
    }
   },
   "outputs": [],
   "source": [
    "TSS$Pair = NA;\n",
    "# map maxTSBs to their TSS\n",
    "plTSS = mTSB$TSS[match(pairs[,1], mTSB$ID5)];\n",
    "mnTSS = mTSB$TSS[match(pairs[,2], mTSB$ID5)];\n",
    "# save pairing in TSS\n",
    "TSS$Pair[ match(plTSS, TSS$ID5) ] = mnTSS;\n",
    "TSS$Pair[ match(mnTSS, TSS$ID5) ] = plTSS;"
   ]
  },
  {
   "cell_type": "code",
   "execution_count": null,
   "metadata": {
    "collapsed": false,
    "jupyter": {
     "outputs_hidden": false
    }
   },
   "outputs": [],
   "source": [
    "# write bed file for paired TSS\n",
    "Paired = TSS[!is.na(TSS$Pair)]\n",
    "DivPairs = data.frame( Chr = seqnames(Paired),\n",
    "                       Start = start(Paired)-1, End = end(Paired),\n",
    "                       names = Paired$TUname, Cap = Paired$Cap,\n",
    "                       Strand = strand(Paired), Pair = Paired$Pair, mTSB = Paired$mTSB)\n",
    "DivPairs = DivPairs[order(DivPairs$Pair,-DivPairs$Cap),]\n",
    "DivPairs = DivPairs[!duplicated(DivPairs$Pair),]\n",
    "DivPairs = DivPairs[order(abs(DivPairs$mTSB)),]\n",
    "strcol = ifelse(DivPairs$Strand == \"+\", '200,0,0', '0,0,170');\n",
    "DivPairs = as.matrix(DivPairs);\n",
    "PairBed = cbind( DivPairs[,1:6], DivPairs[,2:3], strcol );\n",
    "tline = c('track name=\"TSS\" itemRgb=\"On\"', rep('', 8));\n",
    "PairBed = rbind( tline, PairBed );\n",
    "write.table(PairBed, file='../data/K562_DivergentPairs.bed', quote=F, row.names = F, col.names = F);"
   ]
  },
  {
   "cell_type": "code",
   "execution_count": null,
   "metadata": {},
   "outputs": [],
   "source": [
    "save(TSB, file=\"../data/K562_CoPRO_TSB.Rdata\");\n",
    "save(sTSB, file=\"../data/K562_CoPRO_simpleTSB.Rdata\");\n",
    "save(TSS, file=\"../data/K562_CoPRO_TSS.Rdata\");\n",
    "save(TREs, file=\"../data/K562_CoPRO_TREs.Rdata\");\n",
    "save(TX, file=\"../data/K562_CoPRO_TX.Rdata\");"
   ]
  },
  {
   "cell_type": "code",
   "execution_count": null,
   "metadata": {
    "collapsed": true,
    "jupyter": {
     "outputs_hidden": true
    }
   },
   "outputs": [],
   "source": []
  }
 ],
 "metadata": {
  "kernelspec": {
   "display_name": "R",
   "language": "R",
   "name": "ir"
  },
  "language_info": {
   "codemirror_mode": "r",
   "file_extension": ".r",
   "mimetype": "text/x-r-source",
   "name": "R",
   "pygments_lexer": "r",
   "version": "3.6.2"
  }
 },
 "nbformat": 4,
 "nbformat_minor": 4
}
